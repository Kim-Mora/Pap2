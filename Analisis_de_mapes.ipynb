{
 "cells": [
  {
   "cell_type": "code",
   "execution_count": 2,
   "metadata": {},
   "outputs": [],
   "source": [
    "%matplotlib inline\n",
    "import matplotlib.pyplot as plt\n",
    "import pandas as pd\n",
    "import numpy as np\n",
    "import seaborn as sns\n",
    "from time import time\n",
    "import xlsxwriter \n",
    "import plotly.graph_objs as go\n",
    "from plotly.offline import plot"
   ]
  },
  {
   "cell_type": "markdown",
   "metadata": {},
   "source": [
    "Data base:\n",
    "\n",
    "\"mapes.xlsx\" : documento en el cual se toman en cuenta todos los dummies\n",
    "\n",
    "\"mapes_ms.xlsx\" : docuemento en el cual se remueve dummies de mes y semana\n",
    "\n",
    "\"mapes_ds.xlsx\" : documento en el que se remueve dummies de dia de la semana y season"
   ]
  },
  {
   "cell_type": "markdown",
   "metadata": {},
   "source": [
    "## Gráficos "
   ]
  },
  {
   "cell_type": "markdown",
   "metadata": {},
   "source": [
    "###### Para ver que los mapes por hora y zona"
   ]
  },
  {
   "cell_type": "markdown",
   "metadata": {},
   "source": [
    "Para leer los excels: frame[\"frs\", \"frs_ms\",\"frs_ds\"]"
   ]
  },
  {
   "cell_type": "code",
   "execution_count": null,
   "metadata": {},
   "outputs": [],
   "source": [
    "frame ={}; names = [\"frs\", \"frs_ms\",\"frs_ds\"]\n",
    "for nomb in names:\n",
    "    frame[nomb] = pd.DataFrame()\n",
    "    for i in range(-3, 6):\n",
    "        fr = pd.read_excel(f\"mapes{nomb[3:]}.xlsx\", sheet_name=f\"zh_1_{i}\")\n",
    "        frame[nomb] = pd.concat([frame[nomb], fr], axis = 1)\n",
    "        if i>-3:\n",
    "            frame[nomb] = frame[nomb].drop([f\"Zona_zh_{i-1}\", f\"hora_zh_{i-1}\"], axis = 1)\n",
    "            frame[nomb] = frame[nomb].drop(f\"AR_zh_{i-1}\", axis = 1)\n",
    "    old = [\"AR_zh_5\", \"Zona_zh_5\", \"hora_zh_5\"]; new = [\"AR\", \"zona\", \"hora\"]\n",
    "    frame[nomb].rename(columns=dict(zip(old, new)), inplace=True)"
   ]
  },
  {
   "cell_type": "code",
   "execution_count": 125,
   "metadata": {},
   "outputs": [
    {
     "data": {
      "text/html": [
       "<div>\n",
       "<style scoped>\n",
       "    .dataframe tbody tr th:only-of-type {\n",
       "        vertical-align: middle;\n",
       "    }\n",
       "\n",
       "    .dataframe tbody tr th {\n",
       "        vertical-align: top;\n",
       "    }\n",
       "\n",
       "    .dataframe thead th {\n",
       "        text-align: right;\n",
       "    }\n",
       "</style>\n",
       "<table border=\"1\" class=\"dataframe\">\n",
       "  <thead>\n",
       "    <tr style=\"text-align: right;\">\n",
       "      <th></th>\n",
       "      <th>Sck_zh_-3</th>\n",
       "      <th>XGB_zh_-3</th>\n",
       "      <th>Sck_zh_-2</th>\n",
       "      <th>XGB_zh_-2</th>\n",
       "      <th>Sck_zh_-1</th>\n",
       "      <th>XGB_zh_-1</th>\n",
       "      <th>Sck_zh_0</th>\n",
       "      <th>XGB_zh_0</th>\n",
       "      <th>Sck_zh_1</th>\n",
       "      <th>XGB_zh_1</th>\n",
       "      <th>...</th>\n",
       "      <th>XGB_zh_2</th>\n",
       "      <th>Sck_zh_3</th>\n",
       "      <th>XGB_zh_3</th>\n",
       "      <th>Sck_zh_4</th>\n",
       "      <th>XGB_zh_4</th>\n",
       "      <th>Sck_zh_5</th>\n",
       "      <th>XGB_zh_5</th>\n",
       "      <th>AR</th>\n",
       "      <th>zona</th>\n",
       "      <th>hora</th>\n",
       "    </tr>\n",
       "  </thead>\n",
       "  <tbody>\n",
       "    <tr>\n",
       "      <th>0</th>\n",
       "      <td>7.189164</td>\n",
       "      <td>10.129643</td>\n",
       "      <td>4.347421</td>\n",
       "      <td>8.917997</td>\n",
       "      <td>7.643850</td>\n",
       "      <td>19.630526</td>\n",
       "      <td>6.151498</td>\n",
       "      <td>8.909635</td>\n",
       "      <td>11.305184</td>\n",
       "      <td>22.947281</td>\n",
       "      <td>...</td>\n",
       "      <td>15.229243</td>\n",
       "      <td>27.261809</td>\n",
       "      <td>17.866191</td>\n",
       "      <td>10.302700</td>\n",
       "      <td>25.443633</td>\n",
       "      <td>5.573677</td>\n",
       "      <td>9.691575</td>\n",
       "      <td>7.926682</td>\n",
       "      <td>zona_1</td>\n",
       "      <td>1</td>\n",
       "    </tr>\n",
       "    <tr>\n",
       "      <th>1</th>\n",
       "      <td>6.739938</td>\n",
       "      <td>6.289116</td>\n",
       "      <td>7.902703</td>\n",
       "      <td>13.101060</td>\n",
       "      <td>7.618991</td>\n",
       "      <td>71.594439</td>\n",
       "      <td>6.102021</td>\n",
       "      <td>29.373053</td>\n",
       "      <td>8.040957</td>\n",
       "      <td>25.412474</td>\n",
       "      <td>...</td>\n",
       "      <td>7.247964</td>\n",
       "      <td>6.753585</td>\n",
       "      <td>29.691260</td>\n",
       "      <td>7.493557</td>\n",
       "      <td>44.271881</td>\n",
       "      <td>6.734144</td>\n",
       "      <td>7.464127</td>\n",
       "      <td>5.234445</td>\n",
       "      <td>zona_1</td>\n",
       "      <td>2</td>\n",
       "    </tr>\n",
       "  </tbody>\n",
       "</table>\n",
       "<p>2 rows × 21 columns</p>\n",
       "</div>"
      ],
      "text/plain": [
       "   Sck_zh_-3  XGB_zh_-3  Sck_zh_-2  XGB_zh_-2  Sck_zh_-1  XGB_zh_-1  Sck_zh_0  \\\n",
       "0   7.189164  10.129643   4.347421   8.917997   7.643850  19.630526  6.151498   \n",
       "1   6.739938   6.289116   7.902703  13.101060   7.618991  71.594439  6.102021   \n",
       "\n",
       "    XGB_zh_0   Sck_zh_1   XGB_zh_1  ...   XGB_zh_2   Sck_zh_3   XGB_zh_3  \\\n",
       "0   8.909635  11.305184  22.947281  ...  15.229243  27.261809  17.866191   \n",
       "1  29.373053   8.040957  25.412474  ...   7.247964   6.753585  29.691260   \n",
       "\n",
       "    Sck_zh_4   XGB_zh_4  Sck_zh_5  XGB_zh_5        AR    zona hora  \n",
       "0  10.302700  25.443633  5.573677  9.691575  7.926682  zona_1    1  \n",
       "1   7.493557  44.271881  6.734144  7.464127  5.234445  zona_1    2  \n",
       "\n",
       "[2 rows x 21 columns]"
      ]
     },
     "execution_count": 125,
     "metadata": {},
     "output_type": "execute_result"
    }
   ],
   "source": [
    "frame[\"frs\"].head(2)"
   ]
  },
  {
   "cell_type": "code",
   "execution_count": 127,
   "metadata": {},
   "outputs": [
    {
     "data": {
      "text/html": [
       "<div>\n",
       "<style scoped>\n",
       "    .dataframe tbody tr th:only-of-type {\n",
       "        vertical-align: middle;\n",
       "    }\n",
       "\n",
       "    .dataframe tbody tr th {\n",
       "        vertical-align: top;\n",
       "    }\n",
       "\n",
       "    .dataframe thead th {\n",
       "        text-align: right;\n",
       "    }\n",
       "</style>\n",
       "<table border=\"1\" class=\"dataframe\">\n",
       "  <thead>\n",
       "    <tr style=\"text-align: right;\">\n",
       "      <th></th>\n",
       "      <th>Sck_zh_-3</th>\n",
       "      <th>XGB_zh_-3</th>\n",
       "      <th>Sck_zh_-2</th>\n",
       "      <th>XGB_zh_-2</th>\n",
       "      <th>Sck_zh_-1</th>\n",
       "      <th>XGB_zh_-1</th>\n",
       "      <th>Sck_zh_0</th>\n",
       "      <th>XGB_zh_0</th>\n",
       "      <th>Sck_zh_1</th>\n",
       "      <th>XGB_zh_1</th>\n",
       "      <th>...</th>\n",
       "      <th>XGB_zh_2</th>\n",
       "      <th>Sck_zh_3</th>\n",
       "      <th>XGB_zh_3</th>\n",
       "      <th>Sck_zh_4</th>\n",
       "      <th>XGB_zh_4</th>\n",
       "      <th>Sck_zh_5</th>\n",
       "      <th>XGB_zh_5</th>\n",
       "      <th>AR</th>\n",
       "      <th>zona</th>\n",
       "      <th>hora</th>\n",
       "    </tr>\n",
       "  </thead>\n",
       "  <tbody>\n",
       "    <tr>\n",
       "      <th>0</th>\n",
       "      <td>8.272178</td>\n",
       "      <td>7.597869</td>\n",
       "      <td>6.795338</td>\n",
       "      <td>5.425469</td>\n",
       "      <td>8.455263</td>\n",
       "      <td>9.402653</td>\n",
       "      <td>9.820355</td>\n",
       "      <td>24.642153</td>\n",
       "      <td>7.623504</td>\n",
       "      <td>9.657625</td>\n",
       "      <td>...</td>\n",
       "      <td>10.098903</td>\n",
       "      <td>7.510282</td>\n",
       "      <td>7.478886</td>\n",
       "      <td>6.473499</td>\n",
       "      <td>10.616344</td>\n",
       "      <td>7.486400</td>\n",
       "      <td>6.948677</td>\n",
       "      <td>7.926682</td>\n",
       "      <td>zona_1</td>\n",
       "      <td>1</td>\n",
       "    </tr>\n",
       "    <tr>\n",
       "      <th>1</th>\n",
       "      <td>6.759846</td>\n",
       "      <td>7.153581</td>\n",
       "      <td>11.632117</td>\n",
       "      <td>7.187695</td>\n",
       "      <td>6.837641</td>\n",
       "      <td>69.866512</td>\n",
       "      <td>8.160665</td>\n",
       "      <td>115.772252</td>\n",
       "      <td>8.327059</td>\n",
       "      <td>19.574257</td>\n",
       "      <td>...</td>\n",
       "      <td>7.646360</td>\n",
       "      <td>6.224255</td>\n",
       "      <td>7.085991</td>\n",
       "      <td>8.038842</td>\n",
       "      <td>5.933534</td>\n",
       "      <td>7.319957</td>\n",
       "      <td>15.651974</td>\n",
       "      <td>5.234445</td>\n",
       "      <td>zona_1</td>\n",
       "      <td>2</td>\n",
       "    </tr>\n",
       "  </tbody>\n",
       "</table>\n",
       "<p>2 rows × 21 columns</p>\n",
       "</div>"
      ],
      "text/plain": [
       "   Sck_zh_-3  XGB_zh_-3  Sck_zh_-2  XGB_zh_-2  Sck_zh_-1  XGB_zh_-1  Sck_zh_0  \\\n",
       "0   8.272178   7.597869   6.795338   5.425469   8.455263   9.402653  9.820355   \n",
       "1   6.759846   7.153581  11.632117   7.187695   6.837641  69.866512  8.160665   \n",
       "\n",
       "     XGB_zh_0  Sck_zh_1   XGB_zh_1  ...   XGB_zh_2  Sck_zh_3  XGB_zh_3  \\\n",
       "0   24.642153  7.623504   9.657625  ...  10.098903  7.510282  7.478886   \n",
       "1  115.772252  8.327059  19.574257  ...   7.646360  6.224255  7.085991   \n",
       "\n",
       "   Sck_zh_4   XGB_zh_4  Sck_zh_5   XGB_zh_5        AR    zona hora  \n",
       "0  6.473499  10.616344  7.486400   6.948677  7.926682  zona_1    1  \n",
       "1  8.038842   5.933534  7.319957  15.651974  5.234445  zona_1    2  \n",
       "\n",
       "[2 rows x 21 columns]"
      ]
     },
     "execution_count": 127,
     "metadata": {},
     "output_type": "execute_result"
    }
   ],
   "source": [
    "frame[\"frs_ms\"].head(2)"
   ]
  },
  {
   "cell_type": "code",
   "execution_count": 128,
   "metadata": {},
   "outputs": [
    {
     "data": {
      "text/html": [
       "<div>\n",
       "<style scoped>\n",
       "    .dataframe tbody tr th:only-of-type {\n",
       "        vertical-align: middle;\n",
       "    }\n",
       "\n",
       "    .dataframe tbody tr th {\n",
       "        vertical-align: top;\n",
       "    }\n",
       "\n",
       "    .dataframe thead th {\n",
       "        text-align: right;\n",
       "    }\n",
       "</style>\n",
       "<table border=\"1\" class=\"dataframe\">\n",
       "  <thead>\n",
       "    <tr style=\"text-align: right;\">\n",
       "      <th></th>\n",
       "      <th>Sck_zh_-3</th>\n",
       "      <th>XGB_zh_-3</th>\n",
       "      <th>Sck_zh_-2</th>\n",
       "      <th>XGB_zh_-2</th>\n",
       "      <th>Sck_zh_-1</th>\n",
       "      <th>XGB_zh_-1</th>\n",
       "      <th>Sck_zh_0</th>\n",
       "      <th>XGB_zh_0</th>\n",
       "      <th>Sck_zh_1</th>\n",
       "      <th>XGB_zh_1</th>\n",
       "      <th>...</th>\n",
       "      <th>XGB_zh_2</th>\n",
       "      <th>Sck_zh_3</th>\n",
       "      <th>XGB_zh_3</th>\n",
       "      <th>Sck_zh_4</th>\n",
       "      <th>XGB_zh_4</th>\n",
       "      <th>Sck_zh_5</th>\n",
       "      <th>XGB_zh_5</th>\n",
       "      <th>AR</th>\n",
       "      <th>zona</th>\n",
       "      <th>hora</th>\n",
       "    </tr>\n",
       "  </thead>\n",
       "  <tbody>\n",
       "    <tr>\n",
       "      <th>0</th>\n",
       "      <td>4.970718</td>\n",
       "      <td>8.108735</td>\n",
       "      <td>6.813522</td>\n",
       "      <td>7.570908</td>\n",
       "      <td>6.813522</td>\n",
       "      <td>7.570908</td>\n",
       "      <td>4.897285</td>\n",
       "      <td>6.422321</td>\n",
       "      <td>6.813522</td>\n",
       "      <td>7.570908</td>\n",
       "      <td>...</td>\n",
       "      <td>8.932790</td>\n",
       "      <td>4.534253</td>\n",
       "      <td>4.914394</td>\n",
       "      <td>5.701411</td>\n",
       "      <td>6.860995</td>\n",
       "      <td>5.701411</td>\n",
       "      <td>6.860995</td>\n",
       "      <td>7.926682</td>\n",
       "      <td>zona_1</td>\n",
       "      <td>1</td>\n",
       "    </tr>\n",
       "    <tr>\n",
       "      <th>1</th>\n",
       "      <td>6.515395</td>\n",
       "      <td>6.780327</td>\n",
       "      <td>6.935346</td>\n",
       "      <td>7.197980</td>\n",
       "      <td>6.935346</td>\n",
       "      <td>7.197980</td>\n",
       "      <td>6.146305</td>\n",
       "      <td>6.522823</td>\n",
       "      <td>5.977609</td>\n",
       "      <td>6.977393</td>\n",
       "      <td>...</td>\n",
       "      <td>6.977393</td>\n",
       "      <td>6.190817</td>\n",
       "      <td>6.941480</td>\n",
       "      <td>6.935346</td>\n",
       "      <td>7.197980</td>\n",
       "      <td>6.403103</td>\n",
       "      <td>4.315702</td>\n",
       "      <td>5.234445</td>\n",
       "      <td>zona_1</td>\n",
       "      <td>2</td>\n",
       "    </tr>\n",
       "  </tbody>\n",
       "</table>\n",
       "<p>2 rows × 21 columns</p>\n",
       "</div>"
      ],
      "text/plain": [
       "   Sck_zh_-3  XGB_zh_-3  Sck_zh_-2  XGB_zh_-2  Sck_zh_-1  XGB_zh_-1  Sck_zh_0  \\\n",
       "0   4.970718   8.108735   6.813522   7.570908   6.813522   7.570908  4.897285   \n",
       "1   6.515395   6.780327   6.935346   7.197980   6.935346   7.197980  6.146305   \n",
       "\n",
       "   XGB_zh_0  Sck_zh_1  XGB_zh_1  ...  XGB_zh_2  Sck_zh_3  XGB_zh_3  Sck_zh_4  \\\n",
       "0  6.422321  6.813522  7.570908  ...  8.932790  4.534253  4.914394  5.701411   \n",
       "1  6.522823  5.977609  6.977393  ...  6.977393  6.190817  6.941480  6.935346   \n",
       "\n",
       "   XGB_zh_4  Sck_zh_5  XGB_zh_5        AR    zona hora  \n",
       "0  6.860995  5.701411  6.860995  7.926682  zona_1    1  \n",
       "1  7.197980  6.403103  4.315702  5.234445  zona_1    2  \n",
       "\n",
       "[2 rows x 21 columns]"
      ]
     },
     "execution_count": 128,
     "metadata": {},
     "output_type": "execute_result"
    }
   ],
   "source": [
    "frame[\"frs_ds\"].head(2)"
   ]
  },
  {
   "cell_type": "markdown",
   "metadata": {},
   "source": [
    "Para hacer dataframes recortados"
   ]
  },
  {
   "cell_type": "code",
   "execution_count": 74,
   "metadata": {},
   "outputs": [],
   "source": [
    "frenos = [frs, frs_ms, frs_ds]; rango = 6.5; d = {}\n",
    "for name, [s, j] in zip([\"mecin\", \"mecin_ms\", \"mecin_ds\"], enumerate(frenos)):\n",
    "    d[name] = pd.DataFrame()\n",
    "    for k in [\"Sck\", \"XGB\"]:\n",
    "        for i in range(-3, 6):\n",
    "            con = j[f\"{k}_zh_{i}\"][j[f\"{k}_zh_{i}\"]<rango]\n",
    "            d[name] = pd.concat([d[name], con], axis = 1)\n",
    "    d[name] = pd.concat([d[name], j[\"AR\"][j[\"AR\"]<rango]], axis = 1)\n",
    "    d[name] = pd.concat([d[name], j[\"zona\"]], axis = 1)\n",
    "    d[name] = pd.concat([d[name], j[\"hora\"]], axis = 1)\n",
    "    exec(f\"{name} = d[name]\")"
   ]
  },
  {
   "cell_type": "code",
   "execution_count": 94,
   "metadata": {},
   "outputs": [
    {
     "data": {
      "text/html": [
       "<div>\n",
       "<style scoped>\n",
       "    .dataframe tbody tr th:only-of-type {\n",
       "        vertical-align: middle;\n",
       "    }\n",
       "\n",
       "    .dataframe tbody tr th {\n",
       "        vertical-align: top;\n",
       "    }\n",
       "\n",
       "    .dataframe thead th {\n",
       "        text-align: right;\n",
       "    }\n",
       "</style>\n",
       "<table border=\"1\" class=\"dataframe\">\n",
       "  <thead>\n",
       "    <tr style=\"text-align: right;\">\n",
       "      <th></th>\n",
       "      <th>Sck_zh_-3</th>\n",
       "      <th>XGB_zh_-3</th>\n",
       "      <th>Sck_zh_-2</th>\n",
       "      <th>XGB_zh_-2</th>\n",
       "      <th>Sck_zh_-1</th>\n",
       "      <th>XGB_zh_-1</th>\n",
       "      <th>Sck_zh_0</th>\n",
       "      <th>XGB_zh_0</th>\n",
       "      <th>Sck_zh_1</th>\n",
       "      <th>XGB_zh_1</th>\n",
       "      <th>...</th>\n",
       "      <th>XGB_zh_2</th>\n",
       "      <th>Sck_zh_3</th>\n",
       "      <th>XGB_zh_3</th>\n",
       "      <th>Sck_zh_4</th>\n",
       "      <th>XGB_zh_4</th>\n",
       "      <th>Sck_zh_5</th>\n",
       "      <th>XGB_zh_5</th>\n",
       "      <th>AR</th>\n",
       "      <th>zona</th>\n",
       "      <th>hora</th>\n",
       "    </tr>\n",
       "  </thead>\n",
       "  <tbody>\n",
       "    <tr>\n",
       "      <th>0</th>\n",
       "      <td>4.970718</td>\n",
       "      <td>8.108735</td>\n",
       "      <td>6.813522</td>\n",
       "      <td>7.570908</td>\n",
       "      <td>6.813522</td>\n",
       "      <td>7.570908</td>\n",
       "      <td>4.897285</td>\n",
       "      <td>6.422321</td>\n",
       "      <td>6.813522</td>\n",
       "      <td>7.570908</td>\n",
       "      <td>...</td>\n",
       "      <td>8.932790</td>\n",
       "      <td>4.534253</td>\n",
       "      <td>4.914394</td>\n",
       "      <td>5.701411</td>\n",
       "      <td>6.860995</td>\n",
       "      <td>5.701411</td>\n",
       "      <td>6.860995</td>\n",
       "      <td>7.926682</td>\n",
       "      <td>zona_1</td>\n",
       "      <td>1</td>\n",
       "    </tr>\n",
       "    <tr>\n",
       "      <th>1</th>\n",
       "      <td>6.515395</td>\n",
       "      <td>6.780327</td>\n",
       "      <td>6.935346</td>\n",
       "      <td>7.197980</td>\n",
       "      <td>6.935346</td>\n",
       "      <td>7.197980</td>\n",
       "      <td>6.146305</td>\n",
       "      <td>6.522823</td>\n",
       "      <td>5.977609</td>\n",
       "      <td>6.977393</td>\n",
       "      <td>...</td>\n",
       "      <td>6.977393</td>\n",
       "      <td>6.190817</td>\n",
       "      <td>6.941480</td>\n",
       "      <td>6.935346</td>\n",
       "      <td>7.197980</td>\n",
       "      <td>6.403103</td>\n",
       "      <td>4.315702</td>\n",
       "      <td>5.234445</td>\n",
       "      <td>zona_1</td>\n",
       "      <td>2</td>\n",
       "    </tr>\n",
       "  </tbody>\n",
       "</table>\n",
       "<p>2 rows × 21 columns</p>\n",
       "</div>"
      ],
      "text/plain": [
       "   Sck_zh_-3  XGB_zh_-3  Sck_zh_-2  XGB_zh_-2  Sck_zh_-1  XGB_zh_-1  Sck_zh_0  \\\n",
       "0   4.970718   8.108735   6.813522   7.570908   6.813522   7.570908  4.897285   \n",
       "1   6.515395   6.780327   6.935346   7.197980   6.935346   7.197980  6.146305   \n",
       "\n",
       "   XGB_zh_0  Sck_zh_1  XGB_zh_1  ...  XGB_zh_2  Sck_zh_3  XGB_zh_3  Sck_zh_4  \\\n",
       "0  6.422321  6.813522  7.570908  ...  8.932790  4.534253  4.914394  5.701411   \n",
       "1  6.522823  5.977609  6.977393  ...  6.977393  6.190817  6.941480  6.935346   \n",
       "\n",
       "   XGB_zh_4  Sck_zh_5  XGB_zh_5        AR    zona hora  \n",
       "0  6.860995  5.701411  6.860995  7.926682  zona_1    1  \n",
       "1  7.197980  6.403103  4.315702  5.234445  zona_1    2  \n",
       "\n",
       "[2 rows x 21 columns]"
      ]
     },
     "execution_count": 94,
     "metadata": {},
     "output_type": "execute_result"
    }
   ],
   "source": [
    "frame[\"frs\"].head(2)"
   ]
  },
  {
   "cell_type": "markdown",
   "metadata": {},
   "source": [
    "Para graficar dataframes recortados"
   ]
  },
  {
   "cell_type": "code",
   "execution_count": 129,
   "metadata": {},
   "outputs": [
    {
     "data": {
      "text/plain": [
       "'temp-plot.html'"
      ]
     },
     "execution_count": 129,
     "metadata": {},
     "output_type": "execute_result"
    }
   ],
   "source": [
    "datas = []\n",
    "for i, j in zip(d.values(), d.keys()):\n",
    "    for k in range(-3, 6):\n",
    "        data1 = go.Scatter(x=i.XGB_zh_0.index, y=i[f\"XGB_zh_{k}\"], text=list(zip(i.hora, i.zona)), name=f\"XGB_{k}_{j}\", hoverinfo='text', hovertemplate='hora_%{text} mape_%{y:.3f}')\n",
    "        data2 = go.Scatter(x=i.XGB_zh_0.index, y=i[f\"Sck_zh_{k}\"], text=list(zip(i.hora, i.zona)), name=f\"Sck_{k}_{j}\", hoverinfo='text', hovertemplate='hora_%{text} mape_%{y:.3f}')\n",
    "        datas.append(data1)\n",
    "        datas.append(data2)\n",
    "\n",
    "data = go.Scatter(x=i.XGB_zh_0.index, y=i[\"AR\"], text=list(zip(i.hora, i.zona)), name=\"AR\", hoverinfo='text', hovertemplate='hora_%{text} mape_%{y:.3f}')\n",
    "datas.append(data)\n",
    "fig=go.Figure(data = datas)\n",
    "plot(fig)"
   ]
  },
  {
   "cell_type": "code",
   "execution_count": null,
   "metadata": {},
   "outputs": [],
   "source": []
  },
  {
   "cell_type": "code",
   "execution_count": null,
   "metadata": {},
   "outputs": [],
   "source": []
  },
  {
   "cell_type": "code",
   "execution_count": null,
   "metadata": {},
   "outputs": [],
   "source": []
  },
  {
   "cell_type": "code",
   "execution_count": null,
   "metadata": {},
   "outputs": [],
   "source": []
  },
  {
   "cell_type": "code",
   "execution_count": null,
   "metadata": {},
   "outputs": [],
   "source": []
  },
  {
   "cell_type": "code",
   "execution_count": null,
   "metadata": {},
   "outputs": [],
   "source": []
  },
  {
   "cell_type": "code",
   "execution_count": null,
   "metadata": {},
   "outputs": [],
   "source": []
  },
  {
   "cell_type": "code",
   "execution_count": null,
   "metadata": {},
   "outputs": [],
   "source": []
  },
  {
   "cell_type": "code",
   "execution_count": null,
   "metadata": {},
   "outputs": [],
   "source": []
  },
  {
   "cell_type": "code",
   "execution_count": 37,
   "metadata": {},
   "outputs": [],
   "source": [
    "# mecin.query(\"Zona_zh_5 == 'zona_6' & hora_zh_5 == 7\" )"
   ]
  },
  {
   "cell_type": "code",
   "execution_count": 203,
   "metadata": {},
   "outputs": [
    {
     "data": {
      "image/png": "[encoded data removed]",
      "text/plain": [
       "<Figure size 432x288 with 1 Axes>"
      ]
     },
     "metadata": {
      "needs_background": "light"
     },
     "output_type": "display_data"
    }
   ],
   "source": [
    "for k in [\"Sck\", \"XGB\"]:\n",
    "    for i in range(-3, 6):\n",
    "        plt.plot(mecin[f\"{k}_zh_{i}\"])\n",
    "plt.plot(mecin[\"AR_zh_-3\"]);"
   ]
  },
  {
   "cell_type": "code",
   "execution_count": 204,
   "metadata": {},
   "outputs": [],
   "source": [
    "import plotly.graph_objs as go\n",
    "from plotly.offline import plot"
   ]
  },
  {
   "cell_type": "code",
   "execution_count": 205,
   "metadata": {},
   "outputs": [
    {
     "data": {
      "text/plain": [
       "'temp-plot.html'"
      ]
     },
     "execution_count": 205,
     "metadata": {},
     "output_type": "execute_result"
    }
   ],
   "source": [
    "datas = []\n",
    "for k in range(-3, 6):\n",
    "    data = go.Scatter(x=frs.XGB_zh_0.index, y=frs[f\"Sck_zh_{k}\"], text=list(zip(frs.Zona_zh_5, frs.hora_zh_5)), name=f\"Sck_{k}\", hoverinfo='text', hovertemplate='%{text} hora %{y}_mape')\n",
    "    datas.append(data)\n",
    "\n",
    "fig=go.Figure(data = datas)\n",
    "plot(fig)"
   ]
  },
  {
   "cell_type": "code",
   "execution_count": 206,
   "metadata": {},
   "outputs": [
    {
     "data": {
      "text/plain": [
       "'temp-plot.html'"
      ]
     },
     "execution_count": 206,
     "metadata": {},
     "output_type": "execute_result"
    }
   ],
   "source": [
    "datas = []\n",
    "for k in range(-3, 6):\n",
    "    data = go.Scatter(x=frs.XGB_zh_0.index, y=frs[f\"XGB_zh_{k}\"], text=list(zip(frs.Zona_zh_5, frs.hora_zh_5)), name=f\"XGB_{k}\", hoverinfo='text', hovertemplate='%{text} hora %{y}_mape')\n",
    "    datas.append(data)\n",
    "\n",
    "fig=go.Figure(data = datas)\n",
    "plot(fig)"
   ]
  },
  {
   "cell_type": "code",
   "execution_count": 209,
   "metadata": {},
   "outputs": [
    {
     "data": {
      "text/plain": [
       "'temp-plot.html'"
      ]
     },
     "execution_count": 209,
     "metadata": {},
     "output_type": "execute_result"
    }
   ],
   "source": [
    "datas = []\n",
    "for k in range(-3, 6):\n",
    "    data = go.Scatter(x=frs.XGB_zh_0.index, y=frs[f\"AR_zh_{k}\"], text=list(zip(frs.Zona_zh_5, frs.hora_zh_5)), name=f\"AR_{k}\", hoverinfo='text', hovertemplate='%{text} hora %{y}_mape')\n",
    "    data1 = go.Scatter(x=frs.XGB_zh_0.index, y=frs[f\"XGB_zh_{k}\"], text=list(zip(frs.Zona_zh_5, frs.hora_zh_5)), name=f\"XGB_{k}\", hoverinfo='text', hovertemplate='%{text} hora %{y}_mape')\n",
    "    data2 = go.Scatter(x=frs.XGB_zh_0.index, y=frs[f\"Sck_zh_{k}\"], text=list(zip(frs.Zona_zh_5, frs.hora_zh_5)), name=f\"AR_{k}\", hoverinfo='text', hovertemplate='%{text} hora %{y}_mape')\n",
    "    datas.append(data)\n",
    "    datas.append(data1)\n",
    "    datas.append(data2)\n",
    "\n",
    "fig=go.Figure(data = datas)\n",
    "plot(fig)"
   ]
  },
  {
   "cell_type": "code",
   "execution_count": 208,
   "metadata": {},
   "outputs": [
    {
     "data": {
      "text/plain": [
       "'temp-plot.html'"
      ]
     },
     "execution_count": 208,
     "metadata": {},
     "output_type": "execute_result"
    }
   ],
   "source": [
    "datas = []\n",
    "\n",
    "for k in range(-3, 6):\n",
    "    data1 = go.Scatter(x=mecin.XGB_zh_0.index, y=mecin[f\"XGB_zh_{k}\"], text=list(zip(mecin.zona, mecin.hora_)), name=f\"XGB_{k}_{}\", hoverinfo='text', hovertemplate='%{text} hora %{y}_mape')\n",
    "    data2 = go.Scatter(x=mecin.XGB_zh_0.index, y=mecin[f\"Sck_zh_{k}\"], text=list(zip(mecin.zona, mecin.hora_)), name=f\"AR_{k}\", hoverinfo='text', hovertemplate='%{text} hora %{y}_mape')\n",
    "    datas.append(data1)\n",
    "    datas.append(data2)\n",
    "\n",
    "data = go.Scatter(x=mecin.XGB_zh_0.index, y=mecin[\"AR\"], text=list(zip(mecin.zona_, mecin.hora_)), name=\"AR\", hoverinfo='text', hovertemplate='%{text} hora %{y}_mape')\n",
    "datas.append(data)\n",
    "fig=go.Figure(data = datas)\n",
    "plot(fig)"
   ]
  },
  {
   "cell_type": "code",
   "execution_count": null,
   "metadata": {},
   "outputs": [],
   "source": []
  },
  {
   "cell_type": "code",
   "execution_count": null,
   "metadata": {},
   "outputs": [],
   "source": []
  },
  {
   "cell_type": "code",
   "execution_count": null,
   "metadata": {
    "scrolled": false
   },
   "outputs": [],
   "source": []
  },
  {
   "cell_type": "code",
   "execution_count": null,
   "metadata": {},
   "outputs": [],
   "source": [
    "import plotly.graph_objs as go\n",
    "from plotly.offline import plot"
   ]
  },
  {
   "cell_type": "code",
   "execution_count": 162,
   "metadata": {},
   "outputs": [
    {
     "data": {
      "text/plain": [
       "'temp-plot.html'"
      ]
     },
     "execution_count": 162,
     "metadata": {},
     "output_type": "execute_result"
    }
   ],
   "source": [
    "data1=go.Scatter(x=fr.XGB.index, y=fr.Sck, text=list(zip(fr.Zona, fr.hora)), name=\"Sck\", hoverinfo='text', hovertemplate='%{text} hora')\n",
    "data2=go.Scatter(x=fr.XGB.index, y=fr.AR, text=list(zip(fr.Zona, fr.hora)), name='AR', hoverinfo='text', hovertemplate='%{text} hora')\n",
    "fig=go.Figure(data = [data1, data2])\n",
    "plot(fig)"
   ]
  },
  {
   "cell_type": "code",
   "execution_count": 181,
   "metadata": {},
   "outputs": [
    {
     "data": {
      "text/plain": [
       "'temp-plot.html'"
      ]
     },
     "execution_count": 181,
     "metadata": {},
     "output_type": "execute_result"
    }
   ],
   "source": [
    "data1=go.Scatter(x=frzh.Sck.index, y=frzh.Sck, text=list(zip(frzh.Zona, frzh.hora)), name='Sck', hoverinfo='text', hovertemplate='%{text} hora')\n",
    "data2=go.Scatter(x=frzh.Sck.index, y=frzh.AR, text=list(zip(frzh.Zona, frzh.hora)), name='AR', hoverinfo='text', hovertemplate='%{text} hora')\n",
    "fig=go.Figure(data = [data1,data2])\n",
    "plot(fig)"
   ]
  }
 ],
 "metadata": {
  "kernelspec": {
   "display_name": "Python 3",
   "language": "python",
   "name": "python3"
  },
  "language_info": {
   "codemirror_mode": {
    "name": "ipython",
    "version": 3
   },
   "file_extension": ".py",
   "mimetype": "text/x-python",
   "name": "python",
   "nbconvert_exporter": "python",
   "pygments_lexer": "ipython3",
   "version": "3.7.3"
  }
 },
 "nbformat": 4,
 "nbformat_minor": 2
}
